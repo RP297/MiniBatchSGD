{
 "cells": [
  {
   "cell_type": "code",
   "execution_count": 1,
   "metadata": {},
   "outputs": [],
   "source": [
    "# Import Libraries\n",
    "import numpy as np"
   ]
  },
  {
   "cell_type": "code",
   "execution_count": 2,
   "metadata": {},
   "outputs": [],
   "source": [
    "# Define Class\n",
    "class LinearRegression:\n",
    "    def __init__(self, k, eta, iterations):\n",
    "        # Initialize the Matrix A and vector b\n",
    "        self.A = np.random.rand(100, 10)\n",
    "        self.b = np.random.rand(100)\n",
    "        # Initialize vector x with zeros\n",
    "        self.x = np.zeros(self.A.shape[1])\n",
    "\n",
    "        self.k = k\n",
    "        self.eta = eta\n",
    "        self.iterations = iterations\n",
    "\n",
    "    def miniBatchSGD(self):\n",
    "        # Minibatch SGD\n",
    "        for i in range(self.iterations):\n",
    "            \n",
    "            # Randomly sample k data points\n",
    "            indices = np.random.choice(self.A.shape[0], self.k, replace=False)\n",
    "            A_batch = self.A[indices]\n",
    "            b_batch = self.b[indices]\n",
    "\n",
    "            # Calculate the gradient\n",
    "            gradient = 2 * np.dot(A_batch.T, np.dot(A_batch, self.x) - b_batch)\n",
    "\n",
    "            # Update vector x\n",
    "            self.x -= self.eta * gradient\n",
    "\n",
    "    def computed(self):\n",
    "        # Compute objective value using x from MiniBatchSGD\n",
    "        comp_obj_value = np.linalg.norm(np.dot(self.A, self.x) - self.b)**2\n",
    "        return self.x, comp_obj_value\n",
    "\n",
    "    def optimal(self):\n",
    "        # Compute optimal objective value using least squares implementation of numpy\n",
    "        opt_x = np.linalg.lstsq(self.A, self.b, rcond=None)[0]\n",
    "        # Compute objective value using optimal x\n",
    "        opt_obj_value = np.linalg.norm(np.dot(self.A, opt_x) - self.b)**2\n",
    "        return opt_x, opt_obj_value"
   ]
  },
  {
   "cell_type": "code",
   "execution_count": 3,
   "metadata": {},
   "outputs": [],
   "source": [
    "# Create LinearRegression object and run the MiniBatchSGD function of the model\n",
    "model = LinearRegression(k=10, eta=0.001, iterations=1000)\n",
    "model.miniBatchSGD()"
   ]
  },
  {
   "cell_type": "code",
   "execution_count": 4,
   "metadata": {},
   "outputs": [],
   "source": [
    "# Get the calculated and optimal values\n",
    "computed_x, objective_value = model.computed()\n",
    "optimal_x, optimal_objective_value = model.optimal()"
   ]
  },
  {
   "cell_type": "code",
   "execution_count": 5,
   "metadata": {},
   "outputs": [
    {
     "name": "stdout",
     "output_type": "stream",
     "text": [
      "Solution:\n",
      "[ 0.13557031  0.11053088  0.12007797  0.11267609 -0.04188908  0.13282054\n",
      "  0.10653003  0.24006472  0.00806809 -0.0095749 ]\n",
      "Optimal Solution:\n",
      "[ 0.13551683  0.13623879  0.11787686  0.09302444 -0.06623466  0.1488956\n",
      "  0.10506734  0.29399678 -0.00538206 -0.06707382]\n"
     ]
    }
   ],
   "source": [
    "print(\"Solution:\")\n",
    "print(computed_x)\n",
    "print(\"Optimal Solution:\")\n",
    "print(optimal_x)"
   ]
  },
  {
   "cell_type": "code",
   "execution_count": 6,
   "metadata": {},
   "outputs": [
    {
     "name": "stdout",
     "output_type": "stream",
     "text": [
      "Objective Value (SGD): 7.621478898446138\n",
      "Optimal Objective Value: 7.562501159196698\n"
     ]
    }
   ],
   "source": [
    "print(\"Objective Value (SGD):\", objective_value)\n",
    "print(\"Optimal Objective Value:\", optimal_objective_value)"
   ]
  }
 ],
 "metadata": {
  "kernelspec": {
   "display_name": "Python 3.9.13 ('Columbia')",
   "language": "python",
   "name": "python3"
  },
  "language_info": {
   "codemirror_mode": {
    "name": "ipython",
    "version": 3
   },
   "file_extension": ".py",
   "mimetype": "text/x-python",
   "name": "python",
   "nbconvert_exporter": "python",
   "pygments_lexer": "ipython3",
   "version": "3.9.13"
  },
  "orig_nbformat": 4,
  "vscode": {
   "interpreter": {
    "hash": "ccd2c648c5a6eeb8a41cd93bc6bbe3d4241470c9b6a8b405b546e5e08db09a06"
   }
  }
 },
 "nbformat": 4,
 "nbformat_minor": 2
}
